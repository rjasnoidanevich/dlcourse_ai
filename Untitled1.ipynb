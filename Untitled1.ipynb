{
  "nbformat": 4,
  "nbformat_minor": 0,
  "metadata": {
    "colab": {
      "name": "Untitled1.ipynb",
      "version": "0.3.2",
      "provenance": [],
      "include_colab_link": true
    },
    "kernelspec": {
      "name": "python3",
      "display_name": "Python 3"
    }
  },
  "cells": [
    {
      "cell_type": "markdown",
      "metadata": {
        "id": "view-in-github",
        "colab_type": "text"
      },
      "source": [
        "<a href=\"https://colab.research.google.com/github/rjasnoidanevich/dlcourse_ai/blob/master/Untitled1.ipynb\" target=\"_parent\"><img src=\"https://colab.research.google.com/assets/colab-badge.svg\" alt=\"Open In Colab\"/></a>"
      ]
    },
    {
      "metadata": {
        "id": "DeqsOp3bvUVQ",
        "colab_type": "code",
        "colab": {}
      },
      "cell_type": "code",
      "source": [
        "import numpy as np\n",
        "\n",
        "\n",
        "class KNN:\n",
        "    \"\"\"\n",
        "    K-neariest-neighbor classifier using L1 loss\n",
        "    \"\"\"\n",
        "    def __init__(self, k=1):\n",
        "        self.k = k\n",
        "\n",
        "    def fit(self, X, y):\n",
        "        self.train_X = X\n",
        "        self.train_y = y\n",
        "\n",
        "    def predict(self, X, num_loops=0):\n",
        "        '''\n",
        "        Uses the KNN model to predict clases for the data samples provided\n",
        "        \n",
        "        Arguments:\n",
        "        X, np array (num_samples, num_features) - samples to run\n",
        "           through the model\n",
        "        num_loops, int - which implementation to use\n",
        "        Returns:\n",
        "        predictions, np array of ints (num_samples) - predicted class\n",
        "           for each sample\n",
        "        '''\n",
        "        if num_loops == 0:\n",
        "            dists = self.compute_distances_no_loops(X)\n",
        "        elif num_loops == 1:\n",
        "            dists = self.compute_distances_one_loop(X)\n",
        "        else:\n",
        "            dists = self.compute_distances_two_loops(X)\n",
        "\n",
        "        if self.train_y.dtype == np.bool:\n",
        "            return self.predict_labels_binary(dists)\n",
        "        else:\n",
        "            return self.predict_labels_multiclass(dists)\n",
        "\n",
        "    def compute_distances_two_loops(self, X):\n",
        "        '''\n",
        "        Computes distance from every sample of X to every training sample\n",
        "        Uses simplest implementation with 2 Python loops\n",
        "        Arguments:\n",
        "        X, np array (num_test_samples, num_features) - samples to run\n",
        "        \n",
        "        Returns:\n",
        "        dists, np array (num_test_samples, num_train_samples) - array\n",
        "           with distances between each test and each train sample\n",
        "        '''\n",
        "        num_train = self.train_X.shape[0]\n",
        "        num_test = X.shape[0]\n",
        "        dists = np.zeros((num_test, num_train), np.float32)\n",
        "        for i_test in range(num_test):\n",
        "            for i_train in range(num_train):\n",
        "                # TODO: Fill dists[i_test][i_train]\n",
        "                pass\n",
        "\n",
        "    def compute_distances_one_loop(self, X):\n",
        "        '''\n",
        "        Computes distance from every sample of X to every training sample\n",
        "        Vectorizes some of the calculations, so only 1 loop is used\n",
        "        Arguments:\n",
        "        X, np array (num_test_samples, num_features) - samples to run\n",
        "        \n",
        "        Returns:\n",
        "        dists, np array (num_test_samples, num_train_samples) - array\n",
        "           with distances between each test and each train sample\n",
        "        '''\n",
        "        num_train = self.train_X.shape[0]\n",
        "        num_test = X.shape[0]\n",
        "        dists = np.zeros((num_test, num_train), np.float32)\n",
        "        for i_test in range(num_test):\n",
        "            # TODO: Fill the whole row of dists[i_test]\n",
        "            # without additional loops\n",
        "            pass\n",
        "\n",
        "    def compute_distances_no_loops(self, X):\n",
        "        '''\n",
        "        Computes distance from every sample of X to every training sample\n",
        "        Fully vectorizes the calculations\n",
        "        Arguments:\n",
        "        X, np array (num_test_samples, num_features) - samples to run\n",
        "        \n",
        "        Returns:\n",
        "        dists, np array (num_test_samples, num_train_samples) - array\n",
        "           with distances between each test and each train sample\n",
        "        '''\n",
        "        num_train = self.train_X.shape[0]\n",
        "        num_test = X.shape[0]\n",
        "        # Using float32 to to save memory - the default is float64\n",
        "        dists = np.zeros((num_test, num_train), np.float32)\n",
        "        # TODO: Implement computing all distances with no loops!\n",
        "        pass\n",
        "\n",
        "    def predict_labels_binary(self, dists):\n",
        "        '''\n",
        "        Returns model predictions for binary classification case\n",
        "        \n",
        "        Arguments:\n",
        "        dists, np array (num_test_samples, num_train_samples) - array\n",
        "           with distances between each test and each train sample\n",
        "        Returns:\n",
        "        pred, np array of bool (num_test_samples) - binary predictions \n",
        "           for every test sample\n",
        "        '''\n",
        "        num_test = dists.shape[0]\n",
        "        pred = np.zeros(num_test, np.bool)\n",
        "        for i in range(num_test):\n",
        "            # TODO: Implement choosing best class based on k\n",
        "            # nearest training samples\n",
        "            pass\n",
        "        return pred\n",
        "\n",
        "    def predict_labels_multiclass(self, dists):\n",
        "        '''\n",
        "        Returns model predictions for multi-class classification case\n",
        "        \n",
        "        Arguments:\n",
        "        dists, np array (num_test_samples, num_train_samples) - array\n",
        "           with distances between each test and each train sample\n",
        "        Returns:\n",
        "        pred, np array of int (num_test_samples) - predicted class index \n",
        "           for every test sample\n",
        "        '''\n",
        "        num_test = dists.shape[0]\n",
        "        num_test = dists.shape[0]\n",
        "        pred = np.zeros(num_test, np.int)\n",
        "        for i in range(num_test):\n",
        "            # TODO: Implement choosing best class based on k\n",
        "            # nearest training samples\n",
        "            pass\n",
        "        return pred"
      ],
      "execution_count": 0,
      "outputs": []
    },
    {
      "metadata": {
        "id": "ez755YfLvVxX",
        "colab_type": "code",
        "colab": {
          "base_uri": "https://localhost:8080/",
          "height": 306
        },
        "outputId": "46818178-bd75-47d1-f72a-65feb5e70b87"
      },
      "cell_type": "code",
      "source": [
        "from knn import KNN"
      ],
      "execution_count": 3,
      "outputs": [
        {
          "output_type": "error",
          "ename": "ModuleNotFoundError",
          "evalue": "ignored",
          "traceback": [
            "\u001b[0;31m---------------------------------------------------------------------------\u001b[0m",
            "\u001b[0;31mModuleNotFoundError\u001b[0m                       Traceback (most recent call last)",
            "\u001b[0;32m<ipython-input-3-96539f38d7b4>\u001b[0m in \u001b[0;36m<module>\u001b[0;34m()\u001b[0m\n\u001b[0;32m----> 1\u001b[0;31m \u001b[0;32mfrom\u001b[0m \u001b[0mknn\u001b[0m \u001b[0;32mimport\u001b[0m \u001b[0mKNN\u001b[0m\u001b[0;34m\u001b[0m\u001b[0;34m\u001b[0m\u001b[0m\n\u001b[0m",
            "\u001b[0;31mModuleNotFoundError\u001b[0m: No module named 'knn'",
            "",
            "\u001b[0;31m---------------------------------------------------------------------------\u001b[0;32m\nNOTE: If your import is failing due to a missing package, you can\nmanually install dependencies using either !pip or !apt.\n\nTo view examples of installing some common dependencies, click the\n\"Open Examples\" button below.\n\u001b[0;31m---------------------------------------------------------------------------\u001b[0m\n"
          ]
        }
      ]
    },
    {
      "metadata": {
        "id": "sYnrldnhvtYf",
        "colab_type": "code",
        "colab": {}
      },
      "cell_type": "code",
      "source": [
        "knn_classifier = KNN(k=1)"
      ],
      "execution_count": 0,
      "outputs": []
    },
    {
      "metadata": {
        "id": "WSqRn2Buv14V",
        "colab_type": "code",
        "colab": {}
      },
      "cell_type": "code",
      "source": [
        ""
      ],
      "execution_count": 0,
      "outputs": []
    }
  ]
}